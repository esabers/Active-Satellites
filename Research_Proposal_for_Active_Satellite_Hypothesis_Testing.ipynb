{
  "nbformat": 4,
  "nbformat_minor": 0,
  "metadata": {
    "colab": {
      "name": "Research Proposal for Active Satellite Hypothesis Testing.ipynb",
      "provenance": [],
      "collapsed_sections": [],
      "authorship_tag": "ABX9TyMw5PBzh5yPMpVixiI9nHuE",
      "include_colab_link": true
    },
    "kernelspec": {
      "name": "python3",
      "display_name": "Python 3"
    }
  },
  "cells": [
    {
      "cell_type": "markdown",
      "metadata": {
        "id": "view-in-github",
        "colab_type": "text"
      },
      "source": [
        "<a href=\"https://colab.research.google.com/github/Gr3gP/Active-Satellites/blob/main/Research_Proposal_for_Active_Satellite_Hypothesis_Testing.ipynb\" target=\"_parent\"><img src=\"https://colab.research.google.com/assets/colab-badge.svg\" alt=\"Open In Colab\"/></a>"
      ]
    },
    {
      "cell_type": "markdown",
      "metadata": {
        "id": "G4DMVB5a5tIs"
      },
      "source": [
        "The purpose of this paper is to explore a dataset containing active satellites in Earth orbit. This dataset contains data for active satellites in Earth orbit from 1974 to 2016. A Column Key with definitions can be found below for more detail on data attributes. The main question I am seeking to answer in this research is: Does a relationship exist between satellites in the same orbit and their dry masses? Are satellites closer to Earth (LEO) lighter or heavier than those orbiting the Earth in GEO or Elliptical orbits? Alternatively, I'd also like to look at vehicles in the same orbit's launch masses overtime; How has the mean launch mass of vehicles in the same orbit changed overtime? Are launch masses of satellites in the same oribit getting heavier or lighter over time?\n",
        "\n",
        "I am going to test my hypothesis by performing the following analysis:\n",
        "\n",
        " 1. I am going to sperate the vehicles into their respective orbit group (LEO, MEO, GEO, Elliptical), record the sample sizes along with respective  max's and min's,  and calculate the mean dry mass for each. I will then test for a significant difference between the groups using a independent samples t-test. If there is a significant difference, i will continue with my analysis. If no significant difference is found, i will test my alternate hypothesis. \n",
        "\n",
        " 2. I am then going to test for normality and kurtosis using the independent samples t test, the SciPy stats.(describe) function and the Shapiro-Wilks test. I will have a good idea of whether my data is normally distributed or not after these tests and be able to confidently continue my analysis. If the data is non-normally distributed, I will use the Shapiro-Wilks, Moon's median and Kruskal-Wallis tests to test for a significant relationship between my variables. \n",
        "\n",
        " 3. Once I've checked for normality and kurtosis I will begin my comparison of the mean satellite masses in each orbit using visuals to inform and strengthen my analysis with the tests I've moved forward with.\n",
        "\n",
        " 4. I will repeat steps 1-3 for my alternate hypothesis on the relationship between mean launch mass and time.\n",
        "\n",
        "I am hoping to provide some insight into future launches of satellites by finding out what size vehicles are in certain orbits. My alternate hypothesis will hopefully answer the question of whether launch mass is increasing or decreasing overtime. \n",
        "\n",
        "Why is this analysis important? Well, Earth's escape velocity is 11.2 Km/s regardless of mass. This means a vehicle that has a mass of 500 Kg needs to travel the same speed as one that weighs 5,000 Kgs. Since 1974, i believe we have made some advances in thrust and propulsion technology that greatly reduces fuel consumption and the weight of launch vehicles. If this is true, we should see that the launch mass of two vehicles with similar dry masses has decreased overtime.  "
      ]
    },
    {
      "cell_type": "markdown",
      "metadata": {
        "id": "OjNvYjFCm2oq"
      },
      "source": [
        "# Data Column Key"
      ]
    },
    {
      "cell_type": "markdown",
      "metadata": {
        "id": "LCnfhvUs6GUx"
      },
      "source": [
        "**Apogee**: The point in an orbit around the planet Earth where the orbiting body is farthest from the planet in Km.\n",
        "\n",
        "**Perigree**: The point in an orbit around the planet Earth where the orbiting body is closest to the planet in Km.\n",
        "\n",
        "**Eccentricity**: How much a satellites orbit deviates from a perfect circle in degrees \n",
        "\n",
        "    - =0  is a perfectly circlular orbit \n",
        "    - >0, <1 is an elliptical orbit\n",
        "    - =1 is a parabolic escape orbit\n",
        "    - >1 is a hyperbolic orbit\n",
        "\n",
        "**Inclination**: The inclination of orbits of natural or artificial satellites is measured relative to the equatorial plane of the body they orbit if they do so close enough. The equatorial plane is the plane perpendicular to the axis of rotation of the central body.\n",
        "\n",
        "   -An inclination of 0 degrees means the orbiting body orbits the planet in its equatorial plane, in the same direction as the planet rotates;\n",
        "   -An inclination of 90 degrees indicates a polar orbit, in which the spacecraft passes over the north and south poles of the planet; and\n",
        "   -An inclination of 180 degrees indicates a retrograde equatorial orbit.\n",
        "\n",
        "**Period**: The time it takes for the satellite to complete one Earth Orbit.\n",
        "\n",
        "**Dry Mass**: The total weight of the vehicle without passengers, cargo, or consumables\n",
        "\n",
        "**Launch Mass**: The total weight of the vehicle including passengers, cargo, and consumables.\n",
        "\n",
        "**Class of Orbit**: \n",
        "\n",
        "          LEO- Low Earth Orbit (500 - 1,500 Km)\n",
        "          MEO- Medium Earth Orbit (5,000 - 12,0000Km)\n",
        "          GEO- Geosynchronous/Geo-stationary Earth Orbit (~36,000 Km)\n",
        "          Elliptical Orbit - An orbit that is highly elliptical \n"
      ]
    },
    {
      "cell_type": "markdown",
      "metadata": {
        "id": "MwTTkbuEEKmN"
      },
      "source": [
        "**Dataset Link**: https://www.kaggle.com/ucsusa/active-satellites?select=database.csv"
      ]
    },
    {
      "cell_type": "code",
      "metadata": {
        "id": "wScBuub7EPYM"
      },
      "source": [
        "s"
      ],
      "execution_count": null,
      "outputs": []
    }
  ]
}