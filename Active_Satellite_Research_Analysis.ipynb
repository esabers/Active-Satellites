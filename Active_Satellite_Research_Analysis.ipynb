{
  "nbformat": 4,
  "nbformat_minor": 0,
  "metadata": {
    "colab": {
      "name": "Active Satellite Research Analysis.ipynb",
      "provenance": [],
      "collapsed_sections": [],
      "authorship_tag": "ABX9TyNYZLF6sYnSzCE7mNO0ouOh",
      "include_colab_link": true
    },
    "kernelspec": {
      "name": "python3",
      "display_name": "Python 3"
    }
  },
  "cells": [
    {
      "cell_type": "markdown",
      "metadata": {
        "id": "view-in-github",
        "colab_type": "text"
      },
      "source": [
        "<a href=\"https://colab.research.google.com/github/Gr3gP/Active-Satellites/blob/main/Active_Satellite_Research_Analysis.ipynb\" target=\"_parent\"><img src=\"https://colab.research.google.com/assets/colab-badge.svg\" alt=\"Open In Colab\"/></a>"
      ]
    },
    {
      "cell_type": "markdown",
      "metadata": {
        "id": "ROPA1oeFL6Sy"
      },
      "source": [
        "## **Introduction**\n",
        "\n",
        "\n",
        "In this paper we will look at a data set containing active satellites in Earth orbit. We will look at the relationship between average dry masses of satellites in the same orbit. We will then turn our attention to the average launch mass of satellites in each orbit. "
      ]
    },
    {
      "cell_type": "markdown",
      "metadata": {
        "id": "djv4ACisMDJH"
      },
      "source": [
        "# **Hypothesis**\n",
        "\n",
        "**H0**: There is no significant difference in the average dry mass of satellites in LEO, GEO, MEO, and Elliptical Earth orbits.\n",
        "\n",
        "**Ha**: There is a significant difference between the average dry mass of satellites in LEO, GEO, MEO, and Elliptical Earth orbits."
      ]
    },
    {
      "cell_type": "markdown",
      "metadata": {
        "id": "cjuqLL8dMOJH"
      },
      "source": [
        "# **Data**\n",
        "\n",
        "This data comes from  __[Kaggle](https://www.kaggle.com/ucsusa/active-satellites?select=database.csv)__ The dataset contains 1,421 total satellites."
      ]
    },
    {
      "cell_type": "code",
      "metadata": {
        "id": "1uTPVbydrRGs"
      },
      "source": [
        "%matplotlib inline\n",
        "import pandas as pd\n",
        "import numpy as np\n",
        "from scipy import stats\n",
        "import seaborn as sns\n",
        "import matplotlib.pyplot as plt"
      ],
      "execution_count": 1,
      "outputs": []
    },
    {
      "cell_type": "code",
      "metadata": {
        "colab": {
          "resources": {
            "http://localhost:8080/nbextensions/google.colab/files.js": {
              "data": "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",
              "ok": true,
              "headers": [
                [
                  "content-type",
                  "application/javascript"
                ]
              ],
              "status": 200,
              "status_text": ""
            }
          },
          "base_uri": "https://localhost:8080/",
          "height": 72
        },
        "id": "UEn4OMuxrY73",
        "outputId": "b1a9524f-6437-436e-b7c0-139334143490"
      },
      "source": [
        "from google.colab import files\n",
        "\n",
        "uploaded = files.upload()"
      ],
      "execution_count": 2,
      "outputs": [
        {
          "output_type": "display_data",
          "data": {
            "text/html": [
              "\n",
              "     <input type=\"file\" id=\"files-ac6d1053-4e56-4189-905a-3d65c33c45c9\" name=\"files[]\" multiple disabled\n",
              "        style=\"border:none\" />\n",
              "     <output id=\"result-ac6d1053-4e56-4189-905a-3d65c33c45c9\">\n",
              "      Upload widget is only available when the cell has been executed in the\n",
              "      current browser session. Please rerun this cell to enable.\n",
              "      </output>\n",
              "      <script src=\"/nbextensions/google.colab/files.js\"></script> "
            ],
            "text/plain": [
              "<IPython.core.display.HTML object>"
            ]
          },
          "metadata": {
            "tags": []
          }
        },
        {
          "output_type": "stream",
          "text": [
            "Saving Active Satellites in Orbit UPDATED.csv to Active Satellites in Orbit UPDATED.csv\n"
          ],
          "name": "stdout"
        }
      ]
    },
    {
      "cell_type": "code",
      "metadata": {
        "colab": {
          "base_uri": "https://localhost:8080/"
        },
        "id": "aaGBHX2Tra2s",
        "outputId": "64d84014-d4c1-4d8d-b96a-0f8c18fc29f4"
      },
      "source": [
        "import io \n",
        "sat_df = pd.read_csv(io.BytesIO(uploaded['Active Satellites in Orbit UPDATED.csv']))\n",
        "print(sat_df)"
      ],
      "execution_count": 3,
      "outputs": [
        {
          "output_type": "stream",
          "text": [
            "     Official Name of Satellite  ... NORAD Number\n",
            "0                      AAUSat-4  ...        41460\n",
            "1                         ABS-2  ...        39508\n",
            "2                        ABS-2A  ...        41588\n",
            "3                         ABS-3  ...        24901\n",
            "4                        ABS-3A  ...        40424\n",
            "...                         ...  ...          ...\n",
            "1414                Zhongxing 9  ...        33051\n",
            "1415                   Zijing 1  ...        40919\n",
            "1416               Ziyuan 1-02C  ...        38038\n",
            "1417                   Ziyuan 3  ...        38046\n",
            "1418                  Ziyan 3-2  ...        41556\n",
            "\n",
            "[1419 rows x 26 columns]\n"
          ],
          "name": "stdout"
        }
      ]
    },
    {
      "cell_type": "code",
      "metadata": {
        "id": "WhYo9pYUrgZ6",
        "colab": {
          "base_uri": "https://localhost:8080/"
        },
        "outputId": "febb2990-95a0-4988-f8b8-a984e210dc20"
      },
      "source": [
        "sat_df.info()"
      ],
      "execution_count": 4,
      "outputs": [
        {
          "output_type": "stream",
          "text": [
            "<class 'pandas.core.frame.DataFrame'>\n",
            "RangeIndex: 1419 entries, 0 to 1418\n",
            "Data columns (total 26 columns):\n",
            " #   Column                                       Non-Null Count  Dtype  \n",
            "---  ------                                       --------------  -----  \n",
            " 0   Official Name of Satellite                   1419 non-null   object \n",
            " 1   Country/Organization of UN Registry          1419 non-null   object \n",
            " 2   Operator/Owner                               1419 non-null   object \n",
            " 3   Country of Operator/Owner                    1419 non-null   object \n",
            " 4   Users                                        1419 non-null   object \n",
            " 5   Purpose                                      1419 non-null   object \n",
            " 6   Detailed Purpose                             369 non-null    object \n",
            " 7   Class of Orbit                               1419 non-null   object \n",
            " 8   Type of Orbit                                899 non-null    object \n",
            " 9   Longitude of Geosynchronous Orbit (Degrees)  1402 non-null   float64\n",
            " 10  Perigee (Kilometers)                         1419 non-null   int64  \n",
            " 11  Apogee (Kilometers)                          1419 non-null   int64  \n",
            " 12  Eccentricity                                 1419 non-null   float64\n",
            " 13  Inclination (Degrees)                        1419 non-null   float64\n",
            " 14  Period (Minutes)                             1417 non-null   object \n",
            " 15  Launch Mass (Kilograms)                      1317 non-null   object \n",
            " 16  Dry Mass (Kilograms)                         473 non-null    object \n",
            " 17  Power (Watts)                                649 non-null    object \n",
            " 18  Date of Launch                               1416 non-null   object \n",
            " 19  Expected Lifetime (Years)                    976 non-null    object \n",
            " 20  Contractor                                   1419 non-null   object \n",
            " 21  Country of Contractor                        1419 non-null   object \n",
            " 22  Launch Site                                  1419 non-null   object \n",
            " 23  Launch Vehicle                               1419 non-null   object \n",
            " 24  COSPAR Number                                1419 non-null   object \n",
            " 25  NORAD Number                                 1419 non-null   int64  \n",
            "dtypes: float64(3), int64(3), object(20)\n",
            "memory usage: 288.4+ KB\n"
          ],
          "name": "stdout"
        }
      ]
    },
    {
      "cell_type": "markdown",
      "metadata": {
        "id": "ReKIQtRceBNN"
      },
      "source": [
        "We will rename the columns we need for ease of use as shown below."
      ]
    },
    {
      "cell_type": "code",
      "metadata": {
        "id": "guj98tPcCC2h"
      },
      "source": [
        "sat_df = sat_df.rename(columns= {\"Dry Mass (Kilograms)\": \"dry_mass_kg\"})\n",
        "sat_df = sat_df.rename(columns= {\"Launch Mass (Kilograms)\": \"launch_mass_kg\"})\n",
        "sat_df = sat_df.rename(columns={\"Class of Orbit\": \"class_orbit\"})"
      ],
      "execution_count": 5,
      "outputs": []
    },
    {
      "cell_type": "markdown",
      "metadata": {
        "id": "JMx3tBOAeJYL"
      },
      "source": [
        "We will also need to convert some object columns to floats for our analysis. mainly dry_mass_kg and launch_mass_kg as shown below."
      ]
    },
    {
      "cell_type": "code",
      "metadata": {
        "colab": {
          "base_uri": "https://localhost:8080/"
        },
        "id": "5N122JkvDiYq",
        "outputId": "50e7151e-4f1a-4435-c2c7-4a333ba0070c"
      },
      "source": [
        "sat_df[\"dry_mass_kg\"] = pd.to_numeric(sat_df.dry_mass_kg, errors='coerce')\n",
        "sat_df[\"launch_mass_kg\"] = pd.to_numeric(sat_df.launch_mass_kg, errors='coerce')\n",
        "\n",
        "sat_df.info()"
      ],
      "execution_count": 6,
      "outputs": [
        {
          "output_type": "stream",
          "text": [
            "<class 'pandas.core.frame.DataFrame'>\n",
            "RangeIndex: 1419 entries, 0 to 1418\n",
            "Data columns (total 26 columns):\n",
            " #   Column                                       Non-Null Count  Dtype  \n",
            "---  ------                                       --------------  -----  \n",
            " 0   Official Name of Satellite                   1419 non-null   object \n",
            " 1   Country/Organization of UN Registry          1419 non-null   object \n",
            " 2   Operator/Owner                               1419 non-null   object \n",
            " 3   Country of Operator/Owner                    1419 non-null   object \n",
            " 4   Users                                        1419 non-null   object \n",
            " 5   Purpose                                      1419 non-null   object \n",
            " 6   Detailed Purpose                             369 non-null    object \n",
            " 7   class_orbit                                  1419 non-null   object \n",
            " 8   Type of Orbit                                899 non-null    object \n",
            " 9   Longitude of Geosynchronous Orbit (Degrees)  1402 non-null   float64\n",
            " 10  Perigee (Kilometers)                         1419 non-null   int64  \n",
            " 11  Apogee (Kilometers)                          1419 non-null   int64  \n",
            " 12  Eccentricity                                 1419 non-null   float64\n",
            " 13  Inclination (Degrees)                        1419 non-null   float64\n",
            " 14  Period (Minutes)                             1417 non-null   object \n",
            " 15  launch_mass_kg                               1312 non-null   float64\n",
            " 16  dry_mass_kg                                  461 non-null    float64\n",
            " 17  Power (Watts)                                649 non-null    object \n",
            " 18  Date of Launch                               1416 non-null   object \n",
            " 19  Expected Lifetime (Years)                    976 non-null    object \n",
            " 20  Contractor                                   1419 non-null   object \n",
            " 21  Country of Contractor                        1419 non-null   object \n",
            " 22  Launch Site                                  1419 non-null   object \n",
            " 23  Launch Vehicle                               1419 non-null   object \n",
            " 24  COSPAR Number                                1419 non-null   object \n",
            " 25  NORAD Number                                 1419 non-null   int64  \n",
            "dtypes: float64(5), int64(3), object(18)\n",
            "memory usage: 288.4+ KB\n"
          ],
          "name": "stdout"
        }
      ]
    },
    {
      "cell_type": "markdown",
      "metadata": {
        "id": "f9zv499leXIL"
      },
      "source": [
        "## **Methods**  \n",
        "\n",
        "For this analysis we are going to clean the data first, then create 4 data frames containing data for class of orbit. Afer we will get the descriptive stats for the dataframes and inspect the histograms for normality, skewness, and kurtosis to determine whther we can test our hypothesis using parametric or non-parametric tests."
      ]
    },
    {
      "cell_type": "code",
      "metadata": {
        "id": "GiIofJNorwx0",
        "colab": {
          "base_uri": "https://localhost:8080/",
          "height": 275
        },
        "outputId": "95b31d16-379a-4ed3-b102-8bf2bf59af05"
      },
      "source": [
        "sat_df.groupby(['class_orbit']).agg('count')"
      ],
      "execution_count": 7,
      "outputs": [
        {
          "output_type": "execute_result",
          "data": {
            "text/html": [
              "<div>\n",
              "<style scoped>\n",
              "    .dataframe tbody tr th:only-of-type {\n",
              "        vertical-align: middle;\n",
              "    }\n",
              "\n",
              "    .dataframe tbody tr th {\n",
              "        vertical-align: top;\n",
              "    }\n",
              "\n",
              "    .dataframe thead th {\n",
              "        text-align: right;\n",
              "    }\n",
              "</style>\n",
              "<table border=\"1\" class=\"dataframe\">\n",
              "  <thead>\n",
              "    <tr style=\"text-align: right;\">\n",
              "      <th></th>\n",
              "      <th>Official Name of Satellite</th>\n",
              "      <th>Country/Organization of UN Registry</th>\n",
              "      <th>Operator/Owner</th>\n",
              "      <th>Country of Operator/Owner</th>\n",
              "      <th>Users</th>\n",
              "      <th>Purpose</th>\n",
              "      <th>Detailed Purpose</th>\n",
              "      <th>Type of Orbit</th>\n",
              "      <th>Longitude of Geosynchronous Orbit (Degrees)</th>\n",
              "      <th>Perigee (Kilometers)</th>\n",
              "      <th>Apogee (Kilometers)</th>\n",
              "      <th>Eccentricity</th>\n",
              "      <th>Inclination (Degrees)</th>\n",
              "      <th>Period (Minutes)</th>\n",
              "      <th>launch_mass_kg</th>\n",
              "      <th>dry_mass_kg</th>\n",
              "      <th>Power (Watts)</th>\n",
              "      <th>Date of Launch</th>\n",
              "      <th>Expected Lifetime (Years)</th>\n",
              "      <th>Contractor</th>\n",
              "      <th>Country of Contractor</th>\n",
              "      <th>Launch Site</th>\n",
              "      <th>Launch Vehicle</th>\n",
              "      <th>COSPAR Number</th>\n",
              "      <th>NORAD Number</th>\n",
              "    </tr>\n",
              "    <tr>\n",
              "      <th>class_orbit</th>\n",
              "      <th></th>\n",
              "      <th></th>\n",
              "      <th></th>\n",
              "      <th></th>\n",
              "      <th></th>\n",
              "      <th></th>\n",
              "      <th></th>\n",
              "      <th></th>\n",
              "      <th></th>\n",
              "      <th></th>\n",
              "      <th></th>\n",
              "      <th></th>\n",
              "      <th></th>\n",
              "      <th></th>\n",
              "      <th></th>\n",
              "      <th></th>\n",
              "      <th></th>\n",
              "      <th></th>\n",
              "      <th></th>\n",
              "      <th></th>\n",
              "      <th></th>\n",
              "      <th></th>\n",
              "      <th></th>\n",
              "      <th></th>\n",
              "      <th></th>\n",
              "    </tr>\n",
              "  </thead>\n",
              "  <tbody>\n",
              "    <tr>\n",
              "      <th>Elliptical</th>\n",
              "      <td>37</td>\n",
              "      <td>37</td>\n",
              "      <td>37</td>\n",
              "      <td>37</td>\n",
              "      <td>37</td>\n",
              "      <td>37</td>\n",
              "      <td>11</td>\n",
              "      <td>24</td>\n",
              "      <td>37</td>\n",
              "      <td>37</td>\n",
              "      <td>37</td>\n",
              "      <td>37</td>\n",
              "      <td>37</td>\n",
              "      <td>37</td>\n",
              "      <td>33</td>\n",
              "      <td>12</td>\n",
              "      <td>12</td>\n",
              "      <td>37</td>\n",
              "      <td>22</td>\n",
              "      <td>37</td>\n",
              "      <td>37</td>\n",
              "      <td>37</td>\n",
              "      <td>37</td>\n",
              "      <td>37</td>\n",
              "      <td>37</td>\n",
              "    </tr>\n",
              "    <tr>\n",
              "      <th>GEO</th>\n",
              "      <td>506</td>\n",
              "      <td>506</td>\n",
              "      <td>506</td>\n",
              "      <td>506</td>\n",
              "      <td>506</td>\n",
              "      <td>506</td>\n",
              "      <td>41</td>\n",
              "      <td>0</td>\n",
              "      <td>493</td>\n",
              "      <td>506</td>\n",
              "      <td>506</td>\n",
              "      <td>506</td>\n",
              "      <td>506</td>\n",
              "      <td>504</td>\n",
              "      <td>488</td>\n",
              "      <td>245</td>\n",
              "      <td>276</td>\n",
              "      <td>506</td>\n",
              "      <td>439</td>\n",
              "      <td>506</td>\n",
              "      <td>506</td>\n",
              "      <td>506</td>\n",
              "      <td>506</td>\n",
              "      <td>506</td>\n",
              "      <td>506</td>\n",
              "    </tr>\n",
              "    <tr>\n",
              "      <th>LEO</th>\n",
              "      <td>780</td>\n",
              "      <td>780</td>\n",
              "      <td>780</td>\n",
              "      <td>780</td>\n",
              "      <td>780</td>\n",
              "      <td>780</td>\n",
              "      <td>316</td>\n",
              "      <td>779</td>\n",
              "      <td>776</td>\n",
              "      <td>780</td>\n",
              "      <td>780</td>\n",
              "      <td>780</td>\n",
              "      <td>780</td>\n",
              "      <td>780</td>\n",
              "      <td>696</td>\n",
              "      <td>186</td>\n",
              "      <td>291</td>\n",
              "      <td>777</td>\n",
              "      <td>432</td>\n",
              "      <td>780</td>\n",
              "      <td>780</td>\n",
              "      <td>780</td>\n",
              "      <td>780</td>\n",
              "      <td>780</td>\n",
              "      <td>780</td>\n",
              "    </tr>\n",
              "    <tr>\n",
              "      <th>MEO</th>\n",
              "      <td>96</td>\n",
              "      <td>96</td>\n",
              "      <td>96</td>\n",
              "      <td>96</td>\n",
              "      <td>96</td>\n",
              "      <td>96</td>\n",
              "      <td>1</td>\n",
              "      <td>96</td>\n",
              "      <td>96</td>\n",
              "      <td>96</td>\n",
              "      <td>96</td>\n",
              "      <td>96</td>\n",
              "      <td>96</td>\n",
              "      <td>96</td>\n",
              "      <td>95</td>\n",
              "      <td>18</td>\n",
              "      <td>70</td>\n",
              "      <td>96</td>\n",
              "      <td>83</td>\n",
              "      <td>96</td>\n",
              "      <td>96</td>\n",
              "      <td>96</td>\n",
              "      <td>96</td>\n",
              "      <td>96</td>\n",
              "      <td>96</td>\n",
              "    </tr>\n",
              "  </tbody>\n",
              "</table>\n",
              "</div>"
            ],
            "text/plain": [
              "             Official Name of Satellite  ...  NORAD Number\n",
              "class_orbit                              ...              \n",
              "Elliptical                           37  ...            37\n",
              "GEO                                 506  ...           506\n",
              "LEO                                 780  ...           780\n",
              "MEO                                  96  ...            96\n",
              "\n",
              "[4 rows x 25 columns]"
            ]
          },
          "metadata": {
            "tags": []
          },
          "execution_count": 7
        }
      ]
    },
    {
      "cell_type": "code",
      "metadata": {
        "colab": {
          "base_uri": "https://localhost:8080/"
        },
        "id": "P26-a9vJOftE",
        "outputId": "76fff26f-f2f1-4a7e-bac9-84796a9db2c4"
      },
      "source": [
        "sat_df['class_orbit'].unique()"
      ],
      "execution_count": 8,
      "outputs": [
        {
          "output_type": "execute_result",
          "data": {
            "text/plain": [
              "array(['LEO', 'GEO', 'MEO', 'Elliptical'], dtype=object)"
            ]
          },
          "metadata": {
            "tags": []
          },
          "execution_count": 8
        }
      ]
    },
    {
      "cell_type": "markdown",
      "metadata": {
        "id": "AZibx3uvmPLs"
      },
      "source": [
        "**FIll in Missing Dry Mass Values**\n",
        "\n",
        "We have a lot of missing dry-mass values. For this reason, we will need to fill them with a value. We will fill the empty dry mass values with the mean of each orbit. This seems to be the most appropriate as interpolation doesnt make much sense and the median will not change the outcome very much.\n",
        "\n"
      ]
    },
    {
      "cell_type": "code",
      "metadata": {
        "id": "PUUC8maulyNO"
      },
      "source": [
        "sat_df['dry_mass_kg'] = sat_df['dry_mass_kg'].fillna(sat_df.groupby('class_orbit')['dry_mass_kg'].transform('mean'))"
      ],
      "execution_count": 9,
      "outputs": []
    },
    {
      "cell_type": "code",
      "metadata": {
        "colab": {
          "base_uri": "https://localhost:8080/"
        },
        "id": "Qn13Zt87mIQe",
        "outputId": "6ef6a15e-6f22-43f0-dff5-61c800df34ab"
      },
      "source": [
        "sat_df.info()"
      ],
      "execution_count": 10,
      "outputs": [
        {
          "output_type": "stream",
          "text": [
            "<class 'pandas.core.frame.DataFrame'>\n",
            "RangeIndex: 1419 entries, 0 to 1418\n",
            "Data columns (total 26 columns):\n",
            " #   Column                                       Non-Null Count  Dtype  \n",
            "---  ------                                       --------------  -----  \n",
            " 0   Official Name of Satellite                   1419 non-null   object \n",
            " 1   Country/Organization of UN Registry          1419 non-null   object \n",
            " 2   Operator/Owner                               1419 non-null   object \n",
            " 3   Country of Operator/Owner                    1419 non-null   object \n",
            " 4   Users                                        1419 non-null   object \n",
            " 5   Purpose                                      1419 non-null   object \n",
            " 6   Detailed Purpose                             369 non-null    object \n",
            " 7   class_orbit                                  1419 non-null   object \n",
            " 8   Type of Orbit                                899 non-null    object \n",
            " 9   Longitude of Geosynchronous Orbit (Degrees)  1402 non-null   float64\n",
            " 10  Perigee (Kilometers)                         1419 non-null   int64  \n",
            " 11  Apogee (Kilometers)                          1419 non-null   int64  \n",
            " 12  Eccentricity                                 1419 non-null   float64\n",
            " 13  Inclination (Degrees)                        1419 non-null   float64\n",
            " 14  Period (Minutes)                             1417 non-null   object \n",
            " 15  launch_mass_kg                               1312 non-null   float64\n",
            " 16  dry_mass_kg                                  1419 non-null   float64\n",
            " 17  Power (Watts)                                649 non-null    object \n",
            " 18  Date of Launch                               1416 non-null   object \n",
            " 19  Expected Lifetime (Years)                    976 non-null    object \n",
            " 20  Contractor                                   1419 non-null   object \n",
            " 21  Country of Contractor                        1419 non-null   object \n",
            " 22  Launch Site                                  1419 non-null   object \n",
            " 23  Launch Vehicle                               1419 non-null   object \n",
            " 24  COSPAR Number                                1419 non-null   object \n",
            " 25  NORAD Number                                 1419 non-null   int64  \n",
            "dtypes: float64(5), int64(3), object(18)\n",
            "memory usage: 288.4+ KB\n"
          ],
          "name": "stdout"
        }
      ]
    },
    {
      "cell_type": "markdown",
      "metadata": {
        "id": "z65cJ8PN5knC"
      },
      "source": [
        "Now that we've made our adjustments, we can begin investigating the data. A tables been created above grouping satellites by their orbit. We can see we have an issue with the LEO orbit not grouping completely. After a bit of investigation we can see that group has no dry_mass_kg values and we can ignore it since it will have no impact on our analysis."
      ]
    },
    {
      "cell_type": "markdown",
      "metadata": {
        "id": "3dDx1GLKjRnB"
      },
      "source": [
        "Below we are creating a DataFrame for each respective orbit class. "
      ]
    },
    {
      "cell_type": "code",
      "metadata": {
        "id": "IT8r6OZ37yIA"
      },
      "source": [
        "LEO_sat_df = sat_df[(sat_df['class_orbit'] == 'LEO')]\n",
        "MEO_sat_df = sat_df[(sat_df['class_orbit'] == 'MEO')]\n",
        "GEO_sat_df = sat_df[(sat_df['class_orbit'] == 'GEO')]\n",
        "EEO_sat_df = sat_df[(sat_df['class_orbit'] == 'Elliptical')]"
      ],
      "execution_count": 11,
      "outputs": []
    },
    {
      "cell_type": "markdown",
      "metadata": {
        "id": "y4EIA9MGjPtJ"
      },
      "source": [
        "Now that we have our data parsed and in DataFrames. we can begin our analyssis. We have ran the descriptive statistics for each orbit class with  counts, minimums, maximums, and means displayed below."
      ]
    },
    {
      "cell_type": "code",
      "metadata": {
        "colab": {
          "base_uri": "https://localhost:8080/"
        },
        "id": "qCAxH7v-A95D",
        "outputId": "dd2bef27-35bc-4966-da2a-d3e9266515eb"
      },
      "source": [
        "print('----------LEO Statistics----------')\n",
        "print(LEO_sat_df['dry_mass_kg'].describe())\n",
        "print(\"----------MEO Statistics----------\")\n",
        "print(MEO_sat_df['dry_mass_kg'].describe())\n",
        "print('----------GEO Statistics----------')\n",
        "print(GEO_sat_df['dry_mass_kg'].describe())\n",
        "print('-----------EEO Statistics----------')\n",
        "print(EEO_sat_df['dry_mass_kg'].describe())"
      ],
      "execution_count": 12,
      "outputs": [
        {
          "output_type": "stream",
          "text": [
            "----------LEO Statistics----------\n",
            "count      780.000000\n",
            "mean       619.575269\n",
            "std        637.308607\n",
            "min          1.000000\n",
            "25%        619.575269\n",
            "50%        619.575269\n",
            "75%        619.575269\n",
            "max      10000.000000\n",
            "Name: dry_mass_kg, dtype: float64\n",
            "----------MEO Statistics----------\n",
            "count     96.000000\n",
            "mean     944.444444\n",
            "std       43.775076\n",
            "min      660.000000\n",
            "25%      944.444444\n",
            "50%      944.444444\n",
            "75%      944.444444\n",
            "max      980.000000\n",
            "Name: dry_mass_kg, dtype: float64\n",
            "----------GEO Statistics----------\n",
            "count     506.000000\n",
            "mean     1820.481633\n",
            "std       606.365118\n",
            "min       320.000000\n",
            "25%      1700.000000\n",
            "50%      1820.481633\n",
            "75%      1820.481633\n",
            "max      5624.000000\n",
            "Name: dry_mass_kg, dtype: float64\n",
            "-----------EEO Statistics----------\n",
            "count      37.000000\n",
            "mean     1125.000000\n",
            "std       650.781752\n",
            "min        77.000000\n",
            "25%      1125.000000\n",
            "50%      1125.000000\n",
            "75%      1125.000000\n",
            "max      3414.000000\n",
            "Name: dry_mass_kg, dtype: float64\n"
          ],
          "name": "stdout"
        }
      ]
    },
    {
      "cell_type": "markdown",
      "metadata": {
        "id": "uR0QUsCPjtDT"
      },
      "source": [
        "The sample sizes(counts) for LEO(186) and GEO(245) seem to be large enough but MEO(18) and EEO(12) are quite a bit smaller. We will continue with the planned analysis, but may want to rerun it with just LEO and GEO or even change the dry_mass_kg variable to launch_mass_kg since we have larger samples for all the orbits; LEO(695), GEO(488), MEO(95), EEO(33). This does however go beyond the scope of this analysis. "
      ]
    },
    {
      "cell_type": "markdown",
      "metadata": {
        "id": "KBvpKaXmIZnO"
      },
      "source": [
        "##Visualizations\n",
        "\n",
        "-heat map\n",
        "\n",
        "- whisker plot for outliers\n",
        "\n",
        "-time series plot to see how satellite weights have changed through time"
      ]
    },
    {
      "cell_type": "code",
      "metadata": {
        "colab": {
          "base_uri": "https://localhost:8080/",
          "height": 285
        },
        "id": "Rm7gB9zOkszj",
        "outputId": "5f7e1c05-a74f-482c-edd8-b7995d38946b"
      },
      "source": [
        "sns.set_theme(style=\"darkgrid\")\n",
        "ax = sns.pointplot(x=\"class_orbit\", y=\"dry_mass_kg\", data=sat_df)"
      ],
      "execution_count": 13,
      "outputs": [
        {
          "output_type": "display_data",
          "data": {
            "image/png": "[encoded data removed]",
            "text/plain": [
              "<Figure size 432x288 with 1 Axes>"
            ]
          },
          "metadata": {
            "tags": []
          }
        }
      ]
    },
    {
      "cell_type": "code",
      "metadata": {
        "colab": {
          "base_uri": "https://localhost:8080/",
          "height": 628
        },
        "id": "Bp9yOItfIwPo",
        "outputId": "3eb97a20-2449-4ce3-a03e-a64589735b90"
      },
      "source": [
        "hmap = sns.heatmap(sat_df.corr(), annot=True, linewidths=0.5)\n",
        "plt.xticks([1,2,3,4,5,6,7,8], ['LGO(D)', 'Perigree(Km)', 'Apogee(Km)', 'Eccentricity', 'Inclination(D)', 'Launch Mass(Kg)', 'Dry Mass (Kg)', 'NOARD ID'])\n",
        "plt.yticks([1,2,3,4,5,6,7,8], ['LGO(D)', 'Perigree(Km)', 'Apogee(Km)', 'Eccentricity', 'Inclination(D)', 'Launch Mass(Kg)', 'Dry Mass (Kg)', 'NOARD ID'])"
      ],
      "execution_count": 19,
      "outputs": [
        {
          "output_type": "execute_result",
          "data": {
            "text/plain": [
              "([<matplotlib.axis.YTick at 0x7f6feac63e90>,\n",
              "  <matplotlib.axis.YTick at 0x7f6feae61c90>,\n",
              "  <matplotlib.axis.YTick at 0x7f6feabe8110>,\n",
              "  <matplotlib.axis.YTick at 0x7f6feabe88d0>,\n",
              "  <matplotlib.axis.YTick at 0x7f6feabe8dd0>,\n",
              "  <matplotlib.axis.YTick at 0x7f6feabec350>,\n",
              "  <matplotlib.axis.YTick at 0x7f6feabec8d0>,\n",
              "  <matplotlib.axis.YTick at 0x7f6feabece10>],\n",
              " [Text(0, 0.5, 'LGO(D)'),\n",
              "  Text(0, 1.5, 'Perigree(Km)'),\n",
              "  Text(0, 2.5, 'Apogee(Km)'),\n",
              "  Text(0, 3.5, 'Eccentricity'),\n",
              "  Text(0, 4.5, 'Inclination(D)'),\n",
              "  Text(0, 5.5, 'Launch Mass(Kg)'),\n",
              "  Text(0, 6.5, 'Dry Mass (Kg)'),\n",
              "  Text(0, 7.5, 'NOARD ID')])"
            ]
          },
          "metadata": {
            "tags": []
          },
          "execution_count": 19
        },
        {
          "output_type": "display_data",
          "data": {
            "image/png": "[encoded data removed]",
            "text/plain": [
              "<Figure size 432x288 with 2 Axes>"
            ]
          },
          "metadata": {
            "tags": []
          }
        }
      ]
    },
    {
      "cell_type": "markdown",
      "metadata": {
        "id": "Mi8nRrSGLZ4e"
      },
      "source": [
        "Above is a correlation heatmap of out satellite features. Of interest to note is:\n",
        "\n",
        " - Dry mass is positively correlated with Pergiree(0.47) and Apogee(0.37). \n",
        " - Dry mass is negatively correlated with Inclination(-0.39).\n",
        "\n",
        "Can we infer anything about our data using the above information? I think about this in the following way; Pergiree is the furthest point in a satellites orbit and would therefore mean the satellite is further from the Earth, exposing it to more interstellar debris and forces. Therefore, the satellite might have to heavier than the others. \n",
        "\n",
        "Inclination is negatively correlated with dry mass. One posssible explanation is that when the satellite is traveling 'against' or out of the bodies equatorial plane, the satellite is subjected to less force.  "
      ]
    },
    {
      "cell_type": "markdown",
      "metadata": {
        "id": "vi25enV7mI2y"
      },
      "source": [
        "Below we can see histograms of dry_mass_kg for each class_orbit. We can see that the only seemingly normally distributed class_orbit is GEO. The rest are quite sporadic and it may not be useful to perform a t-test with. "
      ]
    },
    {
      "cell_type": "code",
      "metadata": {
        "colab": {
          "base_uri": "https://localhost:8080/",
          "height": 327
        },
        "id": "kMtUw5VDRedH",
        "outputId": "870fe88c-8f72-4a1c-fab2-d9ebfda4d31f"
      },
      "source": [
        "sat_df['dry_mass_kg'].hist(by = sat_df['class_orbit'])\n",
        "plt.xlabel('Dry Mass Kg')\n",
        "plt.ylabel('Satellite Count')"
      ],
      "execution_count": 21,
      "outputs": [
        {
          "output_type": "execute_result",
          "data": {
            "text/plain": [
              "Text(0, 0.5, 'Satellite Count')"
            ]
          },
          "metadata": {
            "tags": []
          },
          "execution_count": 21
        },
        {
          "output_type": "display_data",
          "data": {
            "image/png": "[encoded data removed]",
            "text/plain": [
              "<Figure size 432x288 with 4 Axes>"
            ]
          },
          "metadata": {
            "tags": []
          }
        }
      ]
    },
    {
      "cell_type": "code",
      "metadata": {
        "colab": {
          "base_uri": "https://localhost:8080/",
          "height": 497
        },
        "id": "l2lh4qVjLIY8",
        "outputId": "ffdc798a-32c0-4739-e7d5-73ad48939fd5"
      },
      "source": [
        "sat_df.boxplot('dry_mass_kg', by='class_orbit', figsize=(10, 6))"
      ],
      "execution_count": 22,
      "outputs": [
        {
          "output_type": "stream",
          "text": [
            "/usr/local/lib/python3.7/dist-packages/numpy/core/_asarray.py:83: VisibleDeprecationWarning: Creating an ndarray from ragged nested sequences (which is a list-or-tuple of lists-or-tuples-or ndarrays with different lengths or shapes) is deprecated. If you meant to do this, you must specify 'dtype=object' when creating the ndarray\n",
            "  return array(a, dtype, copy=False, order=order)\n"
          ],
          "name": "stderr"
        },
        {
          "output_type": "execute_result",
          "data": {
            "text/plain": [
              "<matplotlib.axes._subplots.AxesSubplot at 0x7f6fe1822210>"
            ]
          },
          "metadata": {
            "tags": []
          },
          "execution_count": 22
        },
        {
          "output_type": "display_data",
          "data": {
            "image/png": "[encoded data removed]",
            "text/plain": [
              "<Figure size 720x432 with 1 Axes>"
            ]
          },
          "metadata": {
            "tags": []
          }
        }
      ]
    },
    {
      "cell_type": "markdown",
      "metadata": {
        "id": "7siNNv2HIiiq"
      },
      "source": [
        "##Statistics"
      ]
    },
    {
      "cell_type": "markdown",
      "metadata": {
        "id": "wlmeU0urd3ns"
      },
      "source": [
        "It would appear the only normally distributed class orbit is GEO. This means we will be using non-parametric tests for our analysis. The other class orbits are clearly not normally distributed. The boxplot reinforces this and even when we look at the GEO data, it appears to be less normal than the histogram showed."
      ]
    },
    {
      "cell_type": "code",
      "metadata": {
        "colab": {
          "base_uri": "https://localhost:8080/"
        },
        "id": "4FDk05UHCKp1",
        "outputId": "8ce112ec-1827-43d1-d84a-eb965e547189"
      },
      "source": [
        "print(stats.describe(EEO_sat_df['dry_mass_kg']))\n",
        "print(stats.describe(LEO_sat_df['dry_mass_kg']))\n",
        "print(stats.describe(GEO_sat_df['dry_mass_kg']))\n",
        "print(stats.describe(MEO_sat_df['dry_mass_kg']))"
      ],
      "execution_count": 23,
      "outputs": [
        {
          "output_type": "stream",
          "text": [
            "DescribeResult(nobs=37, minmax=(77.0, 3414.0), mean=1125.0, variance=423516.8888888889, skewness=1.745997023841783, kurtosis=5.2188085301665375)\n",
            "DescribeResult(nobs=780, minmax=(1.0, 10000.0), mean=619.5752688172043, variance=406162.2611633331, skewness=12.538315067999386, kurtosis=179.20623492068327)\n",
            "DescribeResult(nobs=506, minmax=(320.0, 5624.0), mean=1820.481632653061, variance=367678.6557769247, skewness=1.2636023681833406, kurtosis=5.092906845733978)\n",
            "DescribeResult(nobs=96, minmax=(660.0, 980.0), mean=944.4444444444445, variance=1916.2573099415204, skewness=-5.715476066494084, kurtosis=35.000000000000014)\n"
          ],
          "name": "stdout"
        }
      ]
    },
    {
      "cell_type": "markdown",
      "metadata": {
        "id": "3OtBvtB0CdYl"
      },
      "source": [
        "Looking at the above Kurtosis and Skewness for our variables, they all fall outside our threhold range of -3 and 3. I am still going to continue testing our dataset with non-parametric tests since we have determined our data is not normally distributed and tehse tests will yield more accurate observations. \n",
        "\n",
        "Next, we will test this assumption with the Shapiro-Wilkes test for normality.\n",
        "\n",
        "\\begin{align} \n",
        "W=\\frac { (\\sum_{i=1}^n a_ix_{(i)} )^2}{ \\sum_{i=1}^n (x_i-\\bar{x})^2}\n",
        "\\end{align}\n",
        "\n",
        "$x_{(i)}$ is the *i*th smallest number in the sample.  \n",
        "$a_i$ is a constant determined by the sample size and acts as a scaling value.  \n",
        "$\\bar{x}$ is the sample mean.  \n",
        "$x_i$ is the *i*th observation in the sample.\n",
        "\n",
        "The equation computes the ratio between the value that would be expected for a normally-distributed sample of that size containing that much information (the numerator of the fraction above) and the actual sum of the differences between each of the values in the variable and the sample mean (the denominator).  Values close to 1 indicate that the distribution is similar to a normal distribution.  The smaller the W statistic becomes, the more divergence there is between the distribution of the data and the normal distribution.  The Shapiro-Wilk test also provides a p-value: one under <.05 indicates non-normality at the 95% confidence level."
      ]
    },
    {
      "cell_type": "code",
      "metadata": {
        "colab": {
          "base_uri": "https://localhost:8080/"
        },
        "id": "NasYZ9iN-dfg",
        "outputId": "c2bfa4c8-7c2d-49a6-f34f-11ab096c91a6"
      },
      "source": [
        "stats.shapiro(GEO_sat_df['dry_mass_kg'])"
      ],
      "execution_count": 24,
      "outputs": [
        {
          "output_type": "execute_result",
          "data": {
            "text/plain": [
              "(0.7974003553390503, 1.2212092391399366e-24)"
            ]
          },
          "metadata": {
            "tags": []
          },
          "execution_count": 24
        }
      ]
    },
    {
      "cell_type": "code",
      "metadata": {
        "colab": {
          "base_uri": "https://localhost:8080/"
        },
        "id": "puVfJOFoB5pE",
        "outputId": "b9d14dcf-dc37-44b5-951b-3770392289ca"
      },
      "source": [
        "stats.shapiro(LEO_sat_df['dry_mass_kg'])"
      ],
      "execution_count": 25,
      "outputs": [
        {
          "output_type": "execute_result",
          "data": {
            "text/plain": [
              "(0.1748499870300293, 0.0)"
            ]
          },
          "metadata": {
            "tags": []
          },
          "execution_count": 25
        }
      ]
    },
    {
      "cell_type": "code",
      "metadata": {
        "colab": {
          "base_uri": "https://localhost:8080/"
        },
        "id": "30gfByKCB8PE",
        "outputId": "d42173f0-d6ff-44b6-c0a8-5854de343b89"
      },
      "source": [
        "stats.shapiro(MEO_sat_df['dry_mass_kg'])"
      ],
      "execution_count": 26,
      "outputs": [
        {
          "output_type": "execute_result",
          "data": {
            "text/plain": [
              "(0.2867780327796936, 1.8481953627744013e-19)"
            ]
          },
          "metadata": {
            "tags": []
          },
          "execution_count": 26
        }
      ]
    },
    {
      "cell_type": "code",
      "metadata": {
        "colab": {
          "base_uri": "https://localhost:8080/"
        },
        "id": "eAsJVEY2CBTT",
        "outputId": "9c8f4685-4805-482e-d403-d00062df9c27"
      },
      "source": [
        "stats.shapiro(EEO_sat_df['dry_mass_kg'])"
      ],
      "execution_count": 27,
      "outputs": [
        {
          "output_type": "execute_result",
          "data": {
            "text/plain": [
              "(0.6795907020568848, 1.0375181602739758e-07)"
            ]
          },
          "metadata": {
            "tags": []
          },
          "execution_count": 27
        }
      ]
    },
    {
      "cell_type": "markdown",
      "metadata": {
        "id": "v9-rV1d1Dq51"
      },
      "source": [
        "Looking at the Shapiro-Wilkes test results, the p-values and W statistic confirm our data is not normally distrbuted at the 95% confidence level. Based on this, we are going to assume we have non-normally distributed data. We will now use the Kruskal-Wallis test to test for a significant difference between our data. \n",
        "\n",
        "\\begin{equation}\n",
        "H=(N-1)\\frac{\\sum_{i=1}^gn_i(\\bar{r}_i-\\bar{r})^2}{\\sum_{i=1}^g\\sum_{j=1}^{n_i}(r_{ij}-\\bar{r})^2}\n",
        "\\end{equation}\n",
        "\n",
        "*H* is the test statistic.  \n",
        "$n_i$ is the number of datapoints in group *i*.   \n",
        "$r_{ij}$ is the rank of datapoint *j* in group *i* when ranked among all datapoints in all groups.  \n",
        "*N* is the total number of datapoints.  \n",
        "$\\bar{r}_i$ is the average rank of all datapoints in group *i*.  \n",
        "$\\bar{r}$ is the average of all the ranks, and can be calculated as $\\frac12(N+1)$.  \n",
        "\n",
        "\n",
        "This test works by first converting all the data into ranks from 1 (highest value) to N (lowest).  Then the overall average rank $\\bar{r}$ is subtracted from the average rank for each group $\\bar{r}_i$.  For each group, the difference is squared, then multiplied by the size of the group $n_i$ .  Finally, the scaled squared differences are summed to create the numerator.  This provides information on how different the mean ranks for each group are from one another.\n",
        "\n",
        "Then, for each observation within a group, the average overall rank $\\bar{r}$ is subtracted from the rank of each observation $r_{ij}$ .  This difference is squared and summed.  Finally, the group-level sums are added together to create the denominator.  This tells us how much variability there is within each group, which is then pooled to create an estimate of the variance of the sample.\n",
        "\n",
        "The test statistic *H* represents the ratio of the divergence of each group mean rank from the overall mean rank relative to the variance in ranks within each group, multiplied by the size of the sample *N*-1.  The larger the value of H, the more likely it is that one of the groups differs meaningfully from the others in the population. The test does not indicate which samples are larger or by how much.\n"
      ]
    },
    {
      "cell_type": "code",
      "metadata": {
        "colab": {
          "base_uri": "https://localhost:8080/"
        },
        "id": "G-ptvtEAFZef",
        "outputId": "bf5f1fce-ac75-476b-cbba-7854f879a510"
      },
      "source": [
        "stats.kruskal(GEO_sat_df['dry_mass_kg'], MEO_sat_df['dry_mass_kg'], EEO_sat_df['dry_mass_kg'], LEO_sat_df['dry_mass_kg'])"
      ],
      "execution_count": 35,
      "outputs": [
        {
          "output_type": "execute_result",
          "data": {
            "text/plain": [
              "KruskalResult(statistic=1026.3861676889992, pvalue=3.3969840306762724e-222)"
            ]
          },
          "metadata": {
            "tags": []
          },
          "execution_count": 35
        }
      ]
    },
    {
      "cell_type": "markdown",
      "metadata": {
        "id": "yGXHt3cXUld6"
      },
      "source": [
        "The test is telling us there is a significant difference between the dry masses. But which? Next, we will run pairwise Kruskal Wallis tests to identify which orbits dry mass is significantly different. "
      ]
    },
    {
      "cell_type": "code",
      "metadata": {
        "colab": {
          "base_uri": "https://localhost:8080/"
        },
        "id": "NVJF0T9FQKpY",
        "outputId": "7e623d12-e482-459c-d8e6-78ddfc67a17c"
      },
      "source": [
        "stats.kruskal(GEO_sat_df['dry_mass_kg'], MEO_sat_df['dry_mass_kg'])"
      ],
      "execution_count": 29,
      "outputs": [
        {
          "output_type": "execute_result",
          "data": {
            "text/plain": [
              "KruskalResult(statistic=178.18178460192524, pvalue=1.208986398158534e-40)"
            ]
          },
          "metadata": {
            "tags": []
          },
          "execution_count": 29
        }
      ]
    },
    {
      "cell_type": "code",
      "metadata": {
        "colab": {
          "base_uri": "https://localhost:8080/"
        },
        "id": "RgYM_QEyURoi",
        "outputId": "07ce22e7-43f6-4a15-d1a1-e34999ff85d2"
      },
      "source": [
        "stats.kruskal(GEO_sat_df['dry_mass_kg'], LEO_sat_df['dry_mass_kg'])"
      ],
      "execution_count": 30,
      "outputs": [
        {
          "output_type": "execute_result",
          "data": {
            "text/plain": [
              "KruskalResult(statistic=902.7728905085137, pvalue=2.4492250057808588e-198)"
            ]
          },
          "metadata": {
            "tags": []
          },
          "execution_count": 30
        }
      ]
    },
    {
      "cell_type": "code",
      "metadata": {
        "colab": {
          "base_uri": "https://localhost:8080/"
        },
        "id": "kpVnbugdUig8",
        "outputId": "85ce4361-0a71-4938-ed3a-3d658145e4e2"
      },
      "source": [
        "stats.kruskal(GEO_sat_df['dry_mass_kg'], EEO_sat_df['dry_mass_kg'])"
      ],
      "execution_count": 31,
      "outputs": [
        {
          "output_type": "execute_result",
          "data": {
            "text/plain": [
              "KruskalResult(statistic=59.84467354302327, pvalue=1.0264677386391514e-14)"
            ]
          },
          "metadata": {
            "tags": []
          },
          "execution_count": 31
        }
      ]
    },
    {
      "cell_type": "code",
      "metadata": {
        "colab": {
          "base_uri": "https://localhost:8080/"
        },
        "id": "KdMOlX5-VvOh",
        "outputId": "dec00f6a-5179-48ad-dd17-68c815e8cfbd"
      },
      "source": [
        "stats.kruskal(LEO_sat_df['dry_mass_kg'], MEO_sat_df['dry_mass_kg'])"
      ],
      "execution_count": 32,
      "outputs": [
        {
          "output_type": "execute_result",
          "data": {
            "text/plain": [
              "KruskalResult(statistic=342.67418464808543, pvalue=1.6691192771817664e-76)"
            ]
          },
          "metadata": {
            "tags": []
          },
          "execution_count": 32
        }
      ]
    },
    {
      "cell_type": "code",
      "metadata": {
        "colab": {
          "base_uri": "https://localhost:8080/"
        },
        "id": "tJ6-BXxjW_ca",
        "outputId": "7ba49a6e-1de4-4064-f858-0ca8f061a4b8"
      },
      "source": [
        "stats.kruskal(LEO_sat_df['dry_mass_kg'], EEO_sat_df['dry_mass_kg'])"
      ],
      "execution_count": 33,
      "outputs": [
        {
          "output_type": "execute_result",
          "data": {
            "text/plain": [
              "KruskalResult(statistic=68.19986482437729, pvalue=1.4773587451825247e-16)"
            ]
          },
          "metadata": {
            "tags": []
          },
          "execution_count": 33
        }
      ]
    },
    {
      "cell_type": "code",
      "metadata": {
        "colab": {
          "base_uri": "https://localhost:8080/"
        },
        "id": "k3DZ2yWgXCzI",
        "outputId": "ea5ea781-7276-4510-f93b-afddb013f6ae"
      },
      "source": [
        "stats.kruskal(EEO_sat_df['dry_mass_kg'], MEO_sat_df['dry_mass_kg'])"
      ],
      "execution_count": 34,
      "outputs": [
        {
          "output_type": "execute_result",
          "data": {
            "text/plain": [
              "KruskalResult(statistic=38.90192913558297, pvalue=4.4563999488284796e-10)"
            ]
          },
          "metadata": {
            "tags": []
          },
          "execution_count": 34
        }
      ]
    },
    {
      "cell_type": "markdown",
      "metadata": {
        "id": "1SxfuMgCFv2H"
      },
      "source": [
        "Looking at the above test statistic, it appears we can reject our null-hypothesis based on the p-value and that GEO is the odd one out. "
      ]
    },
    {
      "cell_type": "markdown",
      "metadata": {
        "id": "GE0ZSAaxRcGi"
      },
      "source": [
        "# **Results**\n",
        "\n",
        "Looking at our data and the above Kruskal-Wallis test based on a p-value of .01, it appears that there is a significant difference between the the dry masses of satellites in different orbits. \n"
      ]
    },
    {
      "cell_type": "markdown",
      "metadata": {
        "id": "2RctLXnQTjV7"
      },
      "source": [
        "# **Recommendations**\n",
        "\n",
        "After performing this anaylsis, it may be intereting to run it again using launch mass since the sample sizes are larger. It may yield some cleaner results, but it really depends on what question we are trying to answer. It would also be logical to continue this analysis as a time series analysis looking at how satellites' dry masses in a particular orbit have significantly changed over time. "
      ]
    },
    {
      "cell_type": "code",
      "metadata": {
        "id": "WFemjs1wVaYc"
      },
      "source": [
        ""
      ],
      "execution_count": 34,
      "outputs": []
    }
  ]
}