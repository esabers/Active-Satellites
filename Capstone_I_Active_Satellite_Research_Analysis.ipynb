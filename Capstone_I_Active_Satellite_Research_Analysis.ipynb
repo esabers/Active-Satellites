{
  "nbformat": 4,
  "nbformat_minor": 0,
  "metadata": {
    "colab": {
      "name": "Capstone I.Active Satellite Research Analysis.ipynb",
      "provenance": [],
      "collapsed_sections": [],
      "authorship_tag": "ABX9TyOHMG01iu9Yw5xnuv1gGwJA",
      "include_colab_link": true
    },
    "kernelspec": {
      "name": "python3",
      "display_name": "Python 3"
    }
  },
  "cells": [
    {
      "cell_type": "markdown",
      "metadata": {
        "id": "view-in-github",
        "colab_type": "text"
      },
      "source": [
        "<a href=\"https://colab.research.google.com/github/Gr3gP/Active-Satellites/blob/main/Capstone_I_Active_Satellite_Research_Analysis.ipynb\" target=\"_parent\"><img src=\"https://colab.research.google.com/assets/colab-badge.svg\" alt=\"Open In Colab\"/></a>"
      ]
    },
    {
      "cell_type": "markdown",
      "metadata": {
        "id": "ROPA1oeFL6Sy"
      },
      "source": [
        "## **Introduction**\n",
        "\n",
        "\n",
        "In this paper we will look at a data set containing active satellites in Earth orbit. We will look at the relationship between average dry masses of satellites in the same orbit. We will then turn our attention to the average launch mass of satellites in each orbit. "
      ]
    },
    {
      "cell_type": "markdown",
      "metadata": {
        "id": "djv4ACisMDJH"
      },
      "source": [
        "# **Hypothesis**\n",
        "\n",
        "H0: There is no significant difference in the average dry mass of satellites in LEO, GEO, MEO, and Elliptical Earth orbits.\n",
        "\n",
        "Ha: There is a significant difference between the average dry mass of satellites in LEO, GEO, MEO, and Elliptical Earth orbits."
      ]
    },
    {
      "cell_type": "markdown",
      "metadata": {
        "id": "cjuqLL8dMOJH"
      },
      "source": [
        "# **Data**\n",
        "\n",
        "This data comes from  __[Kaggle](https://www.kaggle.com/ucsusa/active-satellites?select=database.csv)__ The dataset contains 1,421 toal satellites, of which 1,371 have a non-null value for dry mass which we need for our anaylsis. \n"
      ]
    },
    {
      "cell_type": "code",
      "metadata": {
        "id": "1uTPVbydrRGs"
      },
      "source": [
        "%matplotlib inline\n",
        "import pandas as pd\n",
        "import numpy as np\n",
        "from scipy import stats\n",
        "import seaborn as sns\n",
        "import matplotlib.pyplot as plt"
      ],
      "execution_count": null,
      "outputs": []
    },
    {
      "cell_type": "code",
      "metadata": {
        "colab": {
          "resources": {
            "http://localhost:8080/nbextensions/google.colab/files.js": {
              "data": "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",
              "ok": true,
              "headers": [
                [
                  "content-type",
                  "application/javascript"
                ]
              ],
              "status": 200,
              "status_text": ""
            }
          },
          "base_uri": "https://localhost:8080/",
          "height": 72
        },
        "id": "UEn4OMuxrY73",
        "outputId": "d854add8-510c-4b2e-af9a-865a2bce8983"
      },
      "source": [
        "from google.colab import files\n",
        "\n",
        "uploaded = files.upload()"
      ],
      "execution_count": null,
      "outputs": [
        {
          "output_type": "display_data",
          "data": {
            "text/html": [
              "\n",
              "     <input type=\"file\" id=\"files-b36d9209-acfc-4398-9478-cd5b6a67fd31\" name=\"files[]\" multiple disabled\n",
              "        style=\"border:none\" />\n",
              "     <output id=\"result-b36d9209-acfc-4398-9478-cd5b6a67fd31\">\n",
              "      Upload widget is only available when the cell has been executed in the\n",
              "      current browser session. Please rerun this cell to enable.\n",
              "      </output>\n",
              "      <script src=\"/nbextensions/google.colab/files.js\"></script> "
            ],
            "text/plain": [
              "<IPython.core.display.HTML object>"
            ]
          },
          "metadata": {
            "tags": []
          }
        },
        {
          "output_type": "stream",
          "text": [
            "Saving Active Satellites in Orbit.csv to Active Satellites in Orbit.csv\n"
          ],
          "name": "stdout"
        }
      ]
    },
    {
      "cell_type": "code",
      "metadata": {
        "colab": {
          "base_uri": "https://localhost:8080/"
        },
        "id": "aaGBHX2Tra2s",
        "outputId": "7087b0c1-ee81-4ca5-cd05-63b1e62b3fd5"
      },
      "source": [
        "import io \n",
        "sat_df = pd.read_csv(io.BytesIO(uploaded['Active Satellites in Orbit.csv']))\n",
        "print(sat_df)"
      ],
      "execution_count": null,
      "outputs": [
        {
          "output_type": "stream",
          "text": [
            "     Official Name of Satellite  ... NORAD Number\n",
            "0                      AAUSat-4  ...      41460.0\n",
            "1                         ABS-2  ...      39508.0\n",
            "2                        ABS-2A  ...      41588.0\n",
            "3                         ABS-3  ...      24901.0\n",
            "4                        ABS-3A  ...      40424.0\n",
            "...                         ...  ...          ...\n",
            "1415                Zhongxing 9  ...      33051.0\n",
            "1416                   Zijing 1  ...      40919.0\n",
            "1417               Ziyuan 1-02C  ...      38038.0\n",
            "1418                   Ziyuan 3  ...      38046.0\n",
            "1419                  Ziyan 3-2  ...      41556.0\n",
            "\n",
            "[1420 rows x 26 columns]\n"
          ],
          "name": "stdout"
        }
      ]
    },
    {
      "cell_type": "code",
      "metadata": {
        "id": "WhYo9pYUrgZ6"
      },
      "source": [
        "sat_df.info()"
      ],
      "execution_count": null,
      "outputs": []
    },
    {
      "cell_type": "markdown",
      "metadata": {
        "id": "ReKIQtRceBNN"
      },
      "source": [
        "We will rename the columns we need for ease of use as shown below."
      ]
    },
    {
      "cell_type": "code",
      "metadata": {
        "id": "guj98tPcCC2h"
      },
      "source": [
        "sat_df = sat_df.rename(columns= {\"Dry Mass (Kilograms)\": \"dry_mass_kg\"})\n",
        "sat_df = sat_df.rename(columns= {\"Launch Mass (Kilograms)\": \"launch_mass_kg\"})\n",
        "sat_df = sat_df.rename(columns={\"Class of Orbit\": \"class_orbit\"})\n"
      ],
      "execution_count": null,
      "outputs": []
    },
    {
      "cell_type": "markdown",
      "metadata": {
        "id": "JMx3tBOAeJYL"
      },
      "source": [
        "We will also need to convert some object columns to floats for our analysis. mainly dry_mass_kg and launch_mass_kg as shown below."
      ]
    },
    {
      "cell_type": "code",
      "metadata": {
        "colab": {
          "base_uri": "https://localhost:8080/"
        },
        "id": "5N122JkvDiYq",
        "outputId": "8e650079-e635-45e2-d971-ebc60b87fd2e"
      },
      "source": [
        "sat_df[\"dry_mass_kg\"] = pd.to_numeric(sat_df.dry_mass_kg, errors='coerce')\n",
        "sat_df[\"launch_mass_kg\"] = pd.to_numeric(sat_df.launch_mass_kg, errors='coerce')\n",
        "\n",
        "sat_df.info()"
      ],
      "execution_count": null,
      "outputs": [
        {
          "output_type": "stream",
          "text": [
            "<class 'pandas.core.frame.DataFrame'>\n",
            "RangeIndex: 1420 entries, 0 to 1419\n",
            "Data columns (total 26 columns):\n",
            " #   Column                                       Non-Null Count  Dtype  \n",
            "---  ------                                       --------------  -----  \n",
            " 0   Official Name of Satellite                   1420 non-null   object \n",
            " 1   Country/Organization of UN Registry          1420 non-null   object \n",
            " 2   Operator/Owner                               1419 non-null   object \n",
            " 3   Country of Operator/Owner                    1420 non-null   object \n",
            " 4   Users                                        1419 non-null   object \n",
            " 5   Purpose                                      1419 non-null   object \n",
            " 6   Detailed Purpose                             369 non-null    object \n",
            " 7   class_orbit                                  1419 non-null   object \n",
            " 8   Type of Orbit                                899 non-null    object \n",
            " 9   Longitude of Geosynchronous Orbit (Degrees)  1402 non-null   float64\n",
            " 10  Perigee (Kilometers)                         1419 non-null   float64\n",
            " 11  Apogee (Kilometers)                          1419 non-null   float64\n",
            " 12  Eccentricity                                 1419 non-null   float64\n",
            " 13  Inclination (Degrees)                        1419 non-null   float64\n",
            " 14  Period (Minutes)                             1417 non-null   object \n",
            " 15  launch_mass_kg                               1312 non-null   float64\n",
            " 16  dry_mass_kg                                  461 non-null    float64\n",
            " 17  Power (Watts)                                649 non-null    object \n",
            " 18  Date of Launch                               1416 non-null   object \n",
            " 19  Expected Lifetime (Years)                    976 non-null    object \n",
            " 20  Contractor                                   1419 non-null   object \n",
            " 21  Country of Contractor                        1419 non-null   object \n",
            " 22  Launch Site                                  1419 non-null   object \n",
            " 23  Launch Vehicle                               1419 non-null   object \n",
            " 24  COSPAR Number                                1419 non-null   object \n",
            " 25  NORAD Number                                 1419 non-null   float64\n",
            "dtypes: float64(8), object(18)\n",
            "memory usage: 288.6+ KB\n"
          ],
          "name": "stdout"
        }
      ]
    },
    {
      "cell_type": "markdown",
      "metadata": {
        "id": "f9zv499leXIL"
      },
      "source": [
        "## **Methods**  \n",
        "\n",
        "For this analysis we are going to clean the data first, then create 4 data frames containing data for class of orbit. Afer we will get the descriptive stats for the dataframes and inspect the histograms for normality, skewness, and kurtosis to determine whther we can test our hypothesis using parametric or non-parametric tests."
      ]
    },
    {
      "cell_type": "code",
      "metadata": {
        "id": "GiIofJNorwx0",
        "colab": {
          "base_uri": "https://localhost:8080/",
          "height": 306
        },
        "outputId": "7971554b-be11-4d00-8992-4f72e223fad2"
      },
      "source": [
        "sat_df.groupby(['class_orbit']).agg('count')"
      ],
      "execution_count": null,
      "outputs": [
        {
          "output_type": "execute_result",
          "data": {
            "text/html": [
              "<div>\n",
              "<style scoped>\n",
              "    .dataframe tbody tr th:only-of-type {\n",
              "        vertical-align: middle;\n",
              "    }\n",
              "\n",
              "    .dataframe tbody tr th {\n",
              "        vertical-align: top;\n",
              "    }\n",
              "\n",
              "    .dataframe thead th {\n",
              "        text-align: right;\n",
              "    }\n",
              "</style>\n",
              "<table border=\"1\" class=\"dataframe\">\n",
              "  <thead>\n",
              "    <tr style=\"text-align: right;\">\n",
              "      <th></th>\n",
              "      <th>Official Name of Satellite</th>\n",
              "      <th>Country/Organization of UN Registry</th>\n",
              "      <th>Operator/Owner</th>\n",
              "      <th>Country of Operator/Owner</th>\n",
              "      <th>Users</th>\n",
              "      <th>Purpose</th>\n",
              "      <th>Detailed Purpose</th>\n",
              "      <th>Type of Orbit</th>\n",
              "      <th>Longitude of Geosynchronous Orbit (Degrees)</th>\n",
              "      <th>Perigee (Kilometers)</th>\n",
              "      <th>Apogee (Kilometers)</th>\n",
              "      <th>Eccentricity</th>\n",
              "      <th>Inclination (Degrees)</th>\n",
              "      <th>Period (Minutes)</th>\n",
              "      <th>launch_mass_kg</th>\n",
              "      <th>dry_mass_kg</th>\n",
              "      <th>Power (Watts)</th>\n",
              "      <th>Date of Launch</th>\n",
              "      <th>Expected Lifetime (Years)</th>\n",
              "      <th>Contractor</th>\n",
              "      <th>Country of Contractor</th>\n",
              "      <th>Launch Site</th>\n",
              "      <th>Launch Vehicle</th>\n",
              "      <th>COSPAR Number</th>\n",
              "      <th>NORAD Number</th>\n",
              "    </tr>\n",
              "    <tr>\n",
              "      <th>class_orbit</th>\n",
              "      <th></th>\n",
              "      <th></th>\n",
              "      <th></th>\n",
              "      <th></th>\n",
              "      <th></th>\n",
              "      <th></th>\n",
              "      <th></th>\n",
              "      <th></th>\n",
              "      <th></th>\n",
              "      <th></th>\n",
              "      <th></th>\n",
              "      <th></th>\n",
              "      <th></th>\n",
              "      <th></th>\n",
              "      <th></th>\n",
              "      <th></th>\n",
              "      <th></th>\n",
              "      <th></th>\n",
              "      <th></th>\n",
              "      <th></th>\n",
              "      <th></th>\n",
              "      <th></th>\n",
              "      <th></th>\n",
              "      <th></th>\n",
              "      <th></th>\n",
              "    </tr>\n",
              "  </thead>\n",
              "  <tbody>\n",
              "    <tr>\n",
              "      <th>Elliptical</th>\n",
              "      <td>37</td>\n",
              "      <td>37</td>\n",
              "      <td>37</td>\n",
              "      <td>37</td>\n",
              "      <td>37</td>\n",
              "      <td>37</td>\n",
              "      <td>11</td>\n",
              "      <td>24</td>\n",
              "      <td>37</td>\n",
              "      <td>37</td>\n",
              "      <td>37</td>\n",
              "      <td>37</td>\n",
              "      <td>37</td>\n",
              "      <td>37</td>\n",
              "      <td>33</td>\n",
              "      <td>12</td>\n",
              "      <td>12</td>\n",
              "      <td>37</td>\n",
              "      <td>22</td>\n",
              "      <td>37</td>\n",
              "      <td>37</td>\n",
              "      <td>37</td>\n",
              "      <td>37</td>\n",
              "      <td>37</td>\n",
              "      <td>37</td>\n",
              "    </tr>\n",
              "    <tr>\n",
              "      <th>GEO</th>\n",
              "      <td>506</td>\n",
              "      <td>506</td>\n",
              "      <td>506</td>\n",
              "      <td>506</td>\n",
              "      <td>506</td>\n",
              "      <td>506</td>\n",
              "      <td>41</td>\n",
              "      <td>0</td>\n",
              "      <td>493</td>\n",
              "      <td>506</td>\n",
              "      <td>506</td>\n",
              "      <td>506</td>\n",
              "      <td>506</td>\n",
              "      <td>504</td>\n",
              "      <td>488</td>\n",
              "      <td>245</td>\n",
              "      <td>276</td>\n",
              "      <td>506</td>\n",
              "      <td>439</td>\n",
              "      <td>506</td>\n",
              "      <td>506</td>\n",
              "      <td>506</td>\n",
              "      <td>506</td>\n",
              "      <td>506</td>\n",
              "      <td>506</td>\n",
              "    </tr>\n",
              "    <tr>\n",
              "      <th>LEO</th>\n",
              "      <td>779</td>\n",
              "      <td>779</td>\n",
              "      <td>779</td>\n",
              "      <td>779</td>\n",
              "      <td>779</td>\n",
              "      <td>779</td>\n",
              "      <td>315</td>\n",
              "      <td>778</td>\n",
              "      <td>775</td>\n",
              "      <td>779</td>\n",
              "      <td>779</td>\n",
              "      <td>779</td>\n",
              "      <td>779</td>\n",
              "      <td>779</td>\n",
              "      <td>695</td>\n",
              "      <td>186</td>\n",
              "      <td>291</td>\n",
              "      <td>776</td>\n",
              "      <td>431</td>\n",
              "      <td>779</td>\n",
              "      <td>779</td>\n",
              "      <td>779</td>\n",
              "      <td>779</td>\n",
              "      <td>779</td>\n",
              "      <td>779</td>\n",
              "    </tr>\n",
              "    <tr>\n",
              "      <th>LEO</th>\n",
              "      <td>1</td>\n",
              "      <td>1</td>\n",
              "      <td>1</td>\n",
              "      <td>1</td>\n",
              "      <td>1</td>\n",
              "      <td>1</td>\n",
              "      <td>1</td>\n",
              "      <td>1</td>\n",
              "      <td>1</td>\n",
              "      <td>1</td>\n",
              "      <td>1</td>\n",
              "      <td>1</td>\n",
              "      <td>1</td>\n",
              "      <td>1</td>\n",
              "      <td>1</td>\n",
              "      <td>0</td>\n",
              "      <td>0</td>\n",
              "      <td>1</td>\n",
              "      <td>1</td>\n",
              "      <td>1</td>\n",
              "      <td>1</td>\n",
              "      <td>1</td>\n",
              "      <td>1</td>\n",
              "      <td>1</td>\n",
              "      <td>1</td>\n",
              "    </tr>\n",
              "    <tr>\n",
              "      <th>MEO</th>\n",
              "      <td>96</td>\n",
              "      <td>96</td>\n",
              "      <td>96</td>\n",
              "      <td>96</td>\n",
              "      <td>96</td>\n",
              "      <td>96</td>\n",
              "      <td>1</td>\n",
              "      <td>96</td>\n",
              "      <td>96</td>\n",
              "      <td>96</td>\n",
              "      <td>96</td>\n",
              "      <td>96</td>\n",
              "      <td>96</td>\n",
              "      <td>96</td>\n",
              "      <td>95</td>\n",
              "      <td>18</td>\n",
              "      <td>70</td>\n",
              "      <td>96</td>\n",
              "      <td>83</td>\n",
              "      <td>96</td>\n",
              "      <td>96</td>\n",
              "      <td>96</td>\n",
              "      <td>96</td>\n",
              "      <td>96</td>\n",
              "      <td>96</td>\n",
              "    </tr>\n",
              "  </tbody>\n",
              "</table>\n",
              "</div>"
            ],
            "text/plain": [
              "             Official Name of Satellite  ...  NORAD Number\n",
              "class_orbit                              ...              \n",
              "Elliptical                           37  ...            37\n",
              "GEO                                 506  ...           506\n",
              "LEO                                 779  ...           779\n",
              "LEO                                   1  ...             1\n",
              "MEO                                  96  ...            96\n",
              "\n",
              "[5 rows x 25 columns]"
            ]
          },
          "metadata": {
            "tags": []
          },
          "execution_count": 7
        }
      ]
    },
    {
      "cell_type": "code",
      "metadata": {
        "colab": {
          "base_uri": "https://localhost:8080/"
        },
        "id": "P26-a9vJOftE",
        "outputId": "d15a16e9-d4ad-4cdd-d619-4fbbf130f037"
      },
      "source": [
        "sat_df['class_orbit'].unique()"
      ],
      "execution_count": null,
      "outputs": [
        {
          "output_type": "execute_result",
          "data": {
            "text/plain": [
              "array(['LEO', 'GEO', 'MEO', 'Elliptical', nan, 'LEO '], dtype=object)"
            ]
          },
          "metadata": {
            "tags": []
          },
          "execution_count": 26
        }
      ]
    },
    {
      "cell_type": "markdown",
      "metadata": {
        "id": "z65cJ8PN5knC"
      },
      "source": [
        "Now that we've made our adjustments, we can begin investigating the data. A tables been created above grouping satellites by their orbit. We can see we have an issue with the LEO orbit not grouping completely. After a bit of investigation we can see that group has no dry_mass_kg values and we can ignore it since it will have no impact on our analysis."
      ]
    },
    {
      "cell_type": "markdown",
      "metadata": {
        "id": "3dDx1GLKjRnB"
      },
      "source": [
        "Below we are creating a DataFrame for each respective orbit class. "
      ]
    },
    {
      "cell_type": "code",
      "metadata": {
        "id": "IT8r6OZ37yIA"
      },
      "source": [
        "LEO_sat_df = sat_df[(sat_df['class_orbit'] == 'LEO')]\n",
        "MEO_sat_df = sat_df[(sat_df['class_orbit'] == 'MEO')]\n",
        "GEO_sat_df = sat_df[(sat_df['class_orbit'] == 'GEO')]\n",
        "EEO_sat_df = sat_df[(sat_df['class_orbit'] == 'Elliptical')]"
      ],
      "execution_count": null,
      "outputs": []
    },
    {
      "cell_type": "markdown",
      "metadata": {
        "id": "y4EIA9MGjPtJ"
      },
      "source": [
        "Now that we have our data parsed and in DataFrames. we can begin our analyssis. We have ran the descriptive statistics for each orbit class with  counts, minimums, maximums, and means displayed below."
      ]
    },
    {
      "cell_type": "code",
      "metadata": {
        "colab": {
          "base_uri": "https://localhost:8080/"
        },
        "id": "qCAxH7v-A95D",
        "outputId": "b299c6c5-7e92-48fa-99bb-48cfb8b5d8ca"
      },
      "source": [
        "LEO_sat_df['dry_mass_kg'].describe()"
      ],
      "execution_count": null,
      "outputs": [
        {
          "output_type": "execute_result",
          "data": {
            "text/plain": [
              "count      186.000000\n",
              "mean       619.575269\n",
              "std       1307.773849\n",
              "min          1.000000\n",
              "25%         53.500000\n",
              "50%        556.000000\n",
              "75%        556.000000\n",
              "max      10000.000000\n",
              "Name: dry_mass_kg, dtype: float64"
            ]
          },
          "metadata": {
            "tags": []
          },
          "execution_count": 10
        }
      ]
    },
    {
      "cell_type": "code",
      "metadata": {
        "colab": {
          "base_uri": "https://localhost:8080/"
        },
        "id": "TGoW-mP99jS1",
        "outputId": "0f5d1c54-3f2d-4546-e116-b6c2bd299bda"
      },
      "source": [
        "MEO_sat_df['dry_mass_kg'].describe()"
      ],
      "execution_count": null,
      "outputs": [
        {
          "output_type": "execute_result",
          "data": {
            "text/plain": [
              "count     18.000000\n",
              "mean     944.444444\n",
              "std      103.481867\n",
              "min      660.000000\n",
              "25%      980.000000\n",
              "50%      980.000000\n",
              "75%      980.000000\n",
              "max      980.000000\n",
              "Name: dry_mass_kg, dtype: float64"
            ]
          },
          "metadata": {
            "tags": []
          },
          "execution_count": 11
        }
      ]
    },
    {
      "cell_type": "code",
      "metadata": {
        "colab": {
          "base_uri": "https://localhost:8080/"
        },
        "id": "uWbF2rQwHHE2",
        "outputId": "b5c2a287-cc2d-474c-a090-55b4028bec54"
      },
      "source": [
        "GEO_sat_df['dry_mass_kg'].describe()"
      ],
      "execution_count": null,
      "outputs": [
        {
          "output_type": "execute_result",
          "data": {
            "text/plain": [
              "count     245.000000\n",
              "mean     1820.481633\n",
              "std       872.338390\n",
              "min       320.000000\n",
              "25%      1272.000000\n",
              "50%      1669.000000\n",
              "75%      2275.000000\n",
              "max      5624.000000\n",
              "Name: dry_mass_kg, dtype: float64"
            ]
          },
          "metadata": {
            "tags": []
          },
          "execution_count": 12
        }
      ]
    },
    {
      "cell_type": "code",
      "metadata": {
        "colab": {
          "base_uri": "https://localhost:8080/"
        },
        "id": "ZtChKkvDHMyy",
        "outputId": "39a52826-6b87-404a-ac28-2f23532ad663"
      },
      "source": [
        "EEO_sat_df['dry_mass_kg'].describe()"
      ],
      "execution_count": null,
      "outputs": [
        {
          "output_type": "execute_result",
          "data": {
            "text/plain": [
              "count      12.000000\n",
              "mean     1125.000000\n",
              "std      1177.308487\n",
              "min        77.000000\n",
              "25%       377.750000\n",
              "50%       478.000000\n",
              "75%      1570.000000\n",
              "max      3414.000000\n",
              "Name: dry_mass_kg, dtype: float64"
            ]
          },
          "metadata": {
            "tags": []
          },
          "execution_count": 13
        }
      ]
    },
    {
      "cell_type": "markdown",
      "metadata": {
        "id": "uR0QUsCPjtDT"
      },
      "source": [
        "The sample sizes(counts) for LEO(186) and GEO(245) seem to be large enough but MEO(18) and EEO(12) are quite a bit smaller. We will continue with the planned analysis, but may want to rerun it with just LEO and GEO or even change the dry_mass_kg variable to launch_mass_kg since we have larger samples for all the orbits; LEO(695), GEO(488), MEO(95), EEO(33). This does however go beyond the scope of this analysis. "
      ]
    },
    {
      "cell_type": "markdown",
      "metadata": {
        "id": "vi25enV7mI2y"
      },
      "source": [
        "Below we can see histograms of dry_mass_kg for each class_orbit. We will once again ignore the empty LEO histogram. We can see that the only seemingly normally distributed class_orbit is GEO. The rest are quite sporadic and it may not be useful to perform a t-test with. "
      ]
    },
    {
      "cell_type": "code",
      "metadata": {
        "colab": {
          "base_uri": "https://localhost:8080/",
          "height": 408
        },
        "id": "kMtUw5VDRedH",
        "outputId": "84708f80-c17c-4551-ef84-7cd95bc05a4a"
      },
      "source": [
        "sat_df['dry_mass_kg'].hist(by = sat_df['class_orbit'])"
      ],
      "execution_count": null,
      "outputs": [
        {
          "output_type": "execute_result",
          "data": {
            "text/plain": [
              "array([[<matplotlib.axes._subplots.AxesSubplot object at 0x7f6b7cb810b8>,\n",
              "        <matplotlib.axes._subplots.AxesSubplot object at 0x7f6b7cb53320>],\n",
              "       [<matplotlib.axes._subplots.AxesSubplot object at 0x7f6b7cb0a588>,\n",
              "        <matplotlib.axes._subplots.AxesSubplot object at 0x7f6b7cabc7f0>],\n",
              "       [<matplotlib.axes._subplots.AxesSubplot object at 0x7f6b7ca70a58>,\n",
              "        <matplotlib.axes._subplots.AxesSubplot object at 0x7f6b7ca25cc0>]],\n",
              "      dtype=object)"
            ]
          },
          "metadata": {
            "tags": []
          },
          "execution_count": 14
        },
        {
          "output_type": "display_data",
          "data": {
            "image/png": "[encoded data removed]",
            "text/plain": [
              "<Figure size 432x288 with 6 Axes>"
            ]
          },
          "metadata": {
            "tags": [],
            "needs_background": "light"
          }
        }
      ]
    },
    {
      "cell_type": "code",
      "metadata": {
        "colab": {
          "base_uri": "https://localhost:8080/",
          "height": 438
        },
        "id": "l2lh4qVjLIY8",
        "outputId": "3d79413e-0c94-4ff2-ea1a-c5c943fd8fc1"
      },
      "source": [
        "sat_df.boxplot('dry_mass_kg', by='class_orbit', figsize=(10, 6))"
      ],
      "execution_count": null,
      "outputs": [
        {
          "output_type": "execute_result",
          "data": {
            "text/plain": [
              "<matplotlib.axes._subplots.AxesSubplot at 0x7f6b7c8fac88>"
            ]
          },
          "metadata": {
            "tags": []
          },
          "execution_count": 15
        },
        {
          "output_type": "display_data",
          "data": {
            "image/png": "[encoded data removed]",
            "text/plain": [
              "<Figure size 720x432 with 1 Axes>"
            ]
          },
          "metadata": {
            "tags": [],
            "needs_background": "light"
          }
        }
      ]
    },
    {
      "cell_type": "markdown",
      "metadata": {
        "id": "wlmeU0urd3ns"
      },
      "source": [
        "It would appear the only normally distributed class orbit is GEO. This means we will be using non-parametric tests for our analysis. The other class orbits are clearly not normally distributed. The boxplot reinforces this and even when we look at the GEO data, it appears to be less normal than the histogram showed."
      ]
    },
    {
      "cell_type": "code",
      "metadata": {
        "colab": {
          "base_uri": "https://localhost:8080/"
        },
        "id": "4FDk05UHCKp1",
        "outputId": "767b3428-613f-45d2-9c01-fd7e0c2563ee"
      },
      "source": [
        "print(stats.describe(EEO_sat_df.isnull()['dry_mass_kg']))\n",
        "print(stats.describe(LEO_sat_df.isnull()['dry_mass_kg']))\n",
        "print(stats.describe(GEO_sat_df.isnull()['dry_mass_kg']))\n",
        "print(stats.describe(MEO_sat_df.isnull()['dry_mass_kg']))"
      ],
      "execution_count": null,
      "outputs": [
        {
          "output_type": "stream",
          "text": [
            "DescribeResult(nobs=37, minmax=(False, True), mean=0.6756756756756757, variance=0.2252252252252252, skewness=-0.7505553499465135, kurtosis=-1.4366666666666663)\n",
            "DescribeResult(nobs=779, minmax=(False, True), mean=0.7612323491655969, variance=0.18199128142005272, skewness=-1.2254923101355262, kurtosis=-0.49816859779869116)\n",
            "DescribeResult(nobs=506, minmax=(False, True), mean=0.5158102766798419, variance=0.25024458967635893, skewness=-0.0632727465552306, kurtosis=-1.9959965595433575)\n",
            "DescribeResult(nobs=96, minmax=(False, True), mean=0.8125, variance=0.15394736842105264, skewness=-1.6012815380508714, kurtosis=0.5641025641025643)\n"
          ],
          "name": "stdout"
        }
      ]
    },
    {
      "cell_type": "markdown",
      "metadata": {
        "id": "3OtBvtB0CdYl"
      },
      "source": [
        "Looking at the above Kurtosis and Skewness for our variables, they all technically fall within the threhold between -3 and 3. I am still going to continue testing our dataset with non-parametric tests however, because I beleive they will be more accurate.\n",
        "\n",
        "Next, we will test this belief with the Shapiro-Wilkes test. "
      ]
    },
    {
      "cell_type": "code",
      "metadata": {
        "colab": {
          "base_uri": "https://localhost:8080/"
        },
        "id": "NasYZ9iN-dfg",
        "outputId": "eecd8901-c90b-4fc5-a78e-2905034ca882"
      },
      "source": [
        "stats.shapiro(GEO_sat_df.isnull()['dry_mass_kg'])"
      ],
      "execution_count": null,
      "outputs": [
        {
          "output_type": "execute_result",
          "data": {
            "text/plain": [
              "(0.6361855268478394, 2.3780481114027637e-31)"
            ]
          },
          "metadata": {
            "tags": []
          },
          "execution_count": 17
        }
      ]
    },
    {
      "cell_type": "code",
      "metadata": {
        "colab": {
          "base_uri": "https://localhost:8080/"
        },
        "id": "puVfJOFoB5pE",
        "outputId": "51cce6cb-d647-49fc-d805-c01b5b54d660"
      },
      "source": [
        "stats.shapiro(LEO_sat_df.isnull()['dry_mass_kg'])"
      ],
      "execution_count": null,
      "outputs": [
        {
          "output_type": "execute_result",
          "data": {
            "text/plain": [
              "(0.5286370515823364, 3.026804682941605e-41)"
            ]
          },
          "metadata": {
            "tags": []
          },
          "execution_count": 18
        }
      ]
    },
    {
      "cell_type": "code",
      "metadata": {
        "colab": {
          "base_uri": "https://localhost:8080/"
        },
        "id": "30gfByKCB8PE",
        "outputId": "1845c776-9c90-4fae-d5f9-39339a491c7a"
      },
      "source": [
        "stats.shapiro(MEO_sat_df.isnull()['dry_mass_kg'])"
      ],
      "execution_count": null,
      "outputs": [
        {
          "output_type": "execute_result",
          "data": {
            "text/plain": [
              "(0.4753774404525757, 6.931037673321445e-17)"
            ]
          },
          "metadata": {
            "tags": []
          },
          "execution_count": 19
        }
      ]
    },
    {
      "cell_type": "code",
      "metadata": {
        "colab": {
          "base_uri": "https://localhost:8080/"
        },
        "id": "eAsJVEY2CBTT",
        "outputId": "b2e2cd1d-e047-4c72-93d9-6f7b3aa8468b"
      },
      "source": [
        "stats.shapiro(EEO_sat_df.isnull()['dry_mass_kg'])"
      ],
      "execution_count": null,
      "outputs": [
        {
          "output_type": "execute_result",
          "data": {
            "text/plain": [
              "(0.5910291075706482, 5.863634466862777e-09)"
            ]
          },
          "metadata": {
            "tags": []
          },
          "execution_count": 20
        }
      ]
    },
    {
      "cell_type": "markdown",
      "metadata": {
        "id": "v9-rV1d1Dq51"
      },
      "source": [
        "Looking at the Shapiro-WIlkes test results, the p-values checkout, but the W values are not very close to  one. Based on this, we are going to assume we have non-normally distributed data. We will now use the Kruskal-Wallis test to test for a significant difference between our data. "
      ]
    },
    {
      "cell_type": "code",
      "metadata": {
        "colab": {
          "base_uri": "https://localhost:8080/"
        },
        "id": "G-ptvtEAFZef",
        "outputId": "e2001dfe-3aa7-4fed-b2d9-d2c19d7f4832"
      },
      "source": [
        "stats.kruskal(GEO_sat_df.isnull()['dry_mass_kg'], MEO_sat_df.isnull()['dry_mass_kg'], EEO_sat_df.isnull()['dry_mass_kg'], LEO_sat_df.isnull()['dry_mass_kg'])"
      ],
      "execution_count": null,
      "outputs": [
        {
          "output_type": "execute_result",
          "data": {
            "text/plain": [
              "KruskalResult(statistic=93.04861270554636, pvalue=4.848862517038874e-20)"
            ]
          },
          "metadata": {
            "tags": []
          },
          "execution_count": 21
        }
      ]
    },
    {
      "cell_type": "markdown",
      "metadata": {
        "id": "yGXHt3cXUld6"
      },
      "source": [
        "The test is telling us there is a significant difference between the dry masses. But which? Next, we will run pairwie Kruskal Wallis test to indentify which orbits dry mass is significantly different. "
      ]
    },
    {
      "cell_type": "code",
      "metadata": {
        "colab": {
          "base_uri": "https://localhost:8080/"
        },
        "id": "NVJF0T9FQKpY",
        "outputId": "b7db2bf7-ce6d-4a38-cfcc-2e1fb0d61a46"
      },
      "source": [
        "stats.kruskal(GEO_sat_df.isnull()['dry_mass_kg'], MEO_sat_df.isnull()['dry_mass_kg'])"
      ],
      "execution_count": null,
      "outputs": [
        {
          "output_type": "execute_result",
          "data": {
            "text/plain": [
              "KruskalResult(statistic=28.823438067527835, pvalue=7.92858074532188e-08)"
            ]
          },
          "metadata": {
            "tags": []
          },
          "execution_count": 34
        }
      ]
    },
    {
      "cell_type": "code",
      "metadata": {
        "colab": {
          "base_uri": "https://localhost:8080/"
        },
        "id": "RgYM_QEyURoi",
        "outputId": "f5918055-021f-4db4-c57a-5b1fa14b6535"
      },
      "source": [
        "stats.kruskal(GEO_sat_df.isnull()['dry_mass_kg'], LEO_sat_df.isnull()['dry_mass_kg'])"
      ],
      "execution_count": null,
      "outputs": [
        {
          "output_type": "execute_result",
          "data": {
            "text/plain": [
              "KruskalResult(statistic=82.82188216863007, pvalue=8.97904571334988e-20)"
            ]
          },
          "metadata": {
            "tags": []
          },
          "execution_count": 30
        }
      ]
    },
    {
      "cell_type": "code",
      "metadata": {
        "colab": {
          "base_uri": "https://localhost:8080/"
        },
        "id": "kpVnbugdUig8",
        "outputId": "f2b0fc1d-88a0-4c55-9a7b-7752ca44305a"
      },
      "source": [
        "stats.kruskal(GEO_sat_df.isnull()['dry_mass_kg'], EEO_sat_df.isnull()['dry_mass_kg'])"
      ],
      "execution_count": null,
      "outputs": [
        {
          "output_type": "execute_result",
          "data": {
            "text/plain": [
              "KruskalResult(statistic=3.528266026005303, pvalue=0.060330851534126026)"
            ]
          },
          "metadata": {
            "tags": []
          },
          "execution_count": 38
        }
      ]
    },
    {
      "cell_type": "code",
      "metadata": {
        "colab": {
          "base_uri": "https://localhost:8080/"
        },
        "id": "KdMOlX5-VvOh",
        "outputId": "142bff97-d0fc-4638-ad49-73eb5337a294"
      },
      "source": [
        "stats.kruskal(LEO_sat_df.isnull()['dry_mass_kg'], MEO_sat_df.isnull()['dry_mass_kg'])"
      ],
      "execution_count": null,
      "outputs": [
        {
          "output_type": "execute_result",
          "data": {
            "text/plain": [
              "KruskalResult(statistic=1.2550304744415668, pvalue=0.26259385439956384)"
            ]
          },
          "metadata": {
            "tags": []
          },
          "execution_count": 35
        }
      ]
    },
    {
      "cell_type": "code",
      "metadata": {
        "colab": {
          "base_uri": "https://localhost:8080/"
        },
        "id": "tJ6-BXxjW_ca",
        "outputId": "5f1490cb-5da1-4140-c61c-3d3b48cd7bfe"
      },
      "source": [
        "stats.kruskal(LEO_sat_df.isnull()['dry_mass_kg'], EEO_sat_df.isnull()['dry_mass_kg'])"
      ],
      "execution_count": null,
      "outputs": [
        {
          "output_type": "execute_result",
          "data": {
            "text/plain": [
              "KruskalResult(statistic=1.405241303106088, pvalue=0.23584797313654549)"
            ]
          },
          "metadata": {
            "tags": []
          },
          "execution_count": 36
        }
      ]
    },
    {
      "cell_type": "code",
      "metadata": {
        "colab": {
          "base_uri": "https://localhost:8080/"
        },
        "id": "k3DZ2yWgXCzI",
        "outputId": "e30470e1-1105-4838-d647-e8e7126fc13b"
      },
      "source": [
        "stats.kruskal(EEO_sat_df.isnull()['dry_mass_kg'], MEO_sat_df.isnull()['dry_mass_kg'])"
      ],
      "execution_count": null,
      "outputs": [
        {
          "output_type": "execute_result",
          "data": {
            "text/plain": [
              "KruskalResult(statistic=2.84063237995278, pvalue=0.09190803642963134)"
            ]
          },
          "metadata": {
            "tags": []
          },
          "execution_count": 37
        }
      ]
    },
    {
      "cell_type": "markdown",
      "metadata": {
        "id": "1SxfuMgCFv2H"
      },
      "source": [
        "Looking at the above test statistic, it appears we can reject our null-hypothesis based on the p-value and that GEO is the odd one out. "
      ]
    },
    {
      "cell_type": "markdown",
      "metadata": {
        "id": "GE0ZSAaxRcGi"
      },
      "source": [
        "# **Results**\n",
        "\n",
        "Looking at our data and the above Kruskal-Wallis test based on a p-value of .01, it appears that there is a significant difference between the the dry masses of satellites in different orbits. \n"
      ]
    },
    {
      "cell_type": "markdown",
      "metadata": {
        "id": "2RctLXnQTjV7"
      },
      "source": [
        "# **Recommendations**\n",
        "\n",
        "After performing this anaylsis, it may be intereting to run it again using launch mass since the sample sizes are larger. It may yield some cleaner results, but it really depends on what question we are trying to answer. It would also be logical to continue this analysis as a time series analysis looking at how satellites' dry masses in a particular orbit have significantly changed over time. "
      ]
    },
    {
      "cell_type": "code",
      "metadata": {
        "id": "WFemjs1wVaYc"
      },
      "source": [
        ""
      ],
      "execution_count": null,
      "outputs": []
    }
  ]
}